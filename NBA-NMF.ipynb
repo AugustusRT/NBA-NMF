{
 "cells": [
  {
   "cell_type": "markdown",
   "metadata": {},
   "source": [
    "# Applying Non-Negative Matrix Factorization to NBA Shooting Data\n",
    "\n",
    "Non-negative matrix factorization (NNMF) is an unsupervised learning technique that can be use dto find hidden-structures in data. In this project, I use NNMF to uncover structure NBA shooting data. Using NNMF still involves trial and error, as it is difficult (if not impossible) to predict how many components you should decompose the data into to find the most interpretable output. \n",
    "\n",
    "The project is broken out into four parts:\n",
    "\n",
    "1. Scraping the required data via Beautiful Soup\n",
    "\n",
    "2. Visualizing the Data via matplotlib\n",
    "\n",
    "3. Applying NNMF Algorithm\n",
    "\n",
    "4. Interpreting the output"
   ]
  },
  {
   "cell_type": "markdown",
   "metadata": {},
   "source": [
    "# Data Collection\n",
    "\n",
    "\\* *Re-running the web scraper (particularly the shot data) takes ~ 1 hour. There are sleep times imposed between scrapes to avoid over-scraping the server*"
   ]
  },
  {
   "cell_type": "code",
   "execution_count": null,
   "metadata": {},
   "outputs": [],
   "source": [
    "# External Libraries Used\n",
    "# !pip install seaborn\n",
    "# !pip install bs4\n",
    "# !pip install pandas\n",
    "# !pip install numpy"
   ]
  },
  {
   "cell_type": "markdown",
   "metadata": {},
   "source": [
    "### Define Function for Scraping Season Schedule"
   ]
  },
  {
   "cell_type": "code",
   "execution_count": 1,
   "metadata": {},
   "outputs": [],
   "source": [
    "import pandas as pd\n",
    "import re\n",
    "import random\n",
    "import seaborn as sns\n",
    "import matplotlib.pyplot as plt\n",
    "from requests import get\n",
    "from bs4 import BeautifulSoup\n",
    "from datetime import datetime\n",
    "from time import sleep\n",
    "\n",
    "def get_schedule(season, playoffs=False):\n",
    "    months = ['October', 'November', 'December', 'January', 'February', 'March', 'April', 'May']\n",
    "    df = pd.DataFrame()\n",
    "    \n",
    "    for month in months:\n",
    "        z = get(f'https://www.basketball-reference.com/leagues/NBA_{season}_games-{month.lower()}.html')\n",
    "        if z.status_code==200:\n",
    "            soup = BeautifulSoup(z.content, 'html.parser')\n",
    "            table = soup.find('table', attrs={'id': 'schedule'})\n",
    "            month_df = pd.read_html(str(table))[0]\n",
    "            df = df.append(month_df)\n",
    "        \n",
    "    df = df.reset_index()\n",
    "    cols_to_remove = [i for i in df.columns if 'Unnamed' in i] # Drop unnecessary columns\n",
    "    cols_to_remove += [i for i in df.columns if 'Notes' in i]\n",
    "    cols_to_remove += [i for i in df.columns if 'Start' in i]\n",
    "    cols_to_remove += [i for i in df.columns if 'Attend' in i]\n",
    "    cols_to_remove += ['index']\n",
    "    df = df.drop(cols_to_remove, axis=1)\n",
    "    df.columns = ['DATE', 'VISITOR', 'VISITOR_PTS', 'HOME', 'HOME_PTS']\n",
    "    df = df[df.VISITOR != \"Playoffs\"] # Remove extra row that gets added when Playoffs start (non-sense data)\n",
    "    df.DATE = pd.to_datetime(df.DATE)\n",
    "    return df"
   ]
  },
  {
   "cell_type": "markdown",
   "metadata": {},
   "source": [
    "### Scrape 2018 Season Schedule"
   ]
  },
  {
   "cell_type": "code",
   "execution_count": 2,
   "metadata": {},
   "outputs": [
    {
     "data": {
      "text/html": [
       "<div>\n",
       "<style scoped>\n",
       "    .dataframe tbody tr th:only-of-type {\n",
       "        vertical-align: middle;\n",
       "    }\n",
       "\n",
       "    .dataframe tbody tr th {\n",
       "        vertical-align: top;\n",
       "    }\n",
       "\n",
       "    .dataframe thead th {\n",
       "        text-align: right;\n",
       "    }\n",
       "</style>\n",
       "<table border=\"1\" class=\"dataframe\">\n",
       "  <thead>\n",
       "    <tr style=\"text-align: right;\">\n",
       "      <th></th>\n",
       "      <th>DATE</th>\n",
       "      <th>VISITOR</th>\n",
       "      <th>VISITOR_PTS</th>\n",
       "      <th>HOME</th>\n",
       "      <th>HOME_PTS</th>\n",
       "    </tr>\n",
       "  </thead>\n",
       "  <tbody>\n",
       "    <tr>\n",
       "      <td>0</td>\n",
       "      <td>2017-10-17</td>\n",
       "      <td>Boston Celtics</td>\n",
       "      <td>99</td>\n",
       "      <td>Cleveland Cavaliers</td>\n",
       "      <td>102</td>\n",
       "    </tr>\n",
       "    <tr>\n",
       "      <td>1</td>\n",
       "      <td>2017-10-17</td>\n",
       "      <td>Houston Rockets</td>\n",
       "      <td>122</td>\n",
       "      <td>Golden State Warriors</td>\n",
       "      <td>121</td>\n",
       "    </tr>\n",
       "    <tr>\n",
       "      <td>2</td>\n",
       "      <td>2017-10-18</td>\n",
       "      <td>Charlotte Hornets</td>\n",
       "      <td>90</td>\n",
       "      <td>Detroit Pistons</td>\n",
       "      <td>102</td>\n",
       "    </tr>\n",
       "    <tr>\n",
       "      <td>3</td>\n",
       "      <td>2017-10-18</td>\n",
       "      <td>Brooklyn Nets</td>\n",
       "      <td>131</td>\n",
       "      <td>Indiana Pacers</td>\n",
       "      <td>140</td>\n",
       "    </tr>\n",
       "    <tr>\n",
       "      <td>4</td>\n",
       "      <td>2017-10-18</td>\n",
       "      <td>Miami Heat</td>\n",
       "      <td>109</td>\n",
       "      <td>Orlando Magic</td>\n",
       "      <td>116</td>\n",
       "    </tr>\n",
       "  </tbody>\n",
       "</table>\n",
       "</div>"
      ],
      "text/plain": [
       "        DATE            VISITOR VISITOR_PTS                   HOME HOME_PTS\n",
       "0 2017-10-17     Boston Celtics          99    Cleveland Cavaliers      102\n",
       "1 2017-10-17    Houston Rockets         122  Golden State Warriors      121\n",
       "2 2017-10-18  Charlotte Hornets          90        Detroit Pistons      102\n",
       "3 2017-10-18      Brooklyn Nets         131         Indiana Pacers      140\n",
       "4 2017-10-18         Miami Heat         109          Orlando Magic      116"
      ]
     },
     "execution_count": 2,
     "metadata": {},
     "output_type": "execute_result"
    }
   ],
   "source": [
    "schedule = get_schedule(2018) \n",
    "schedule.head()"
   ]
  },
  {
   "cell_type": "markdown",
   "metadata": {},
   "source": [
    "### Create Abreviation Lookup Dictionary\n",
    "Define Team Abbreviation dictionary. These abbreviations are needed to scrape the shot charts for each game. I will use the last word of each team name ('mascot') as the keys since they are unique."
   ]
  },
  {
   "cell_type": "code",
   "execution_count": 3,
   "metadata": {
    "scrolled": false
   },
   "outputs": [],
   "source": [
    "abbrevs = pd.read_csv('NBA-Abbrev.csv')\n",
    "abbrevs['Mascot'] = abbrevs.apply(lambda x: x['Franchise'].split()[-1], axis = 1)\n",
    "teams = dict(zip(abbrevs['Mascot'], abbrevs['Abbreviation/Acronym']))\n",
    "teams['Hornets'] = \"CHO\" # Manual corrections from original abbreviation file. Data source uses some non-standard abbreviations\n",
    "teams['Nets'] = \"BRK\"\n",
    "teams['Suns'] = 'PHO'\n",
    "teams['Thunder'] = 'OKC'"
   ]
  },
  {
   "cell_type": "markdown",
   "metadata": {},
   "source": [
    "### Define Functions to Scrape Shot Chart "
   ]
  },
  {
   "cell_type": "code",
   "execution_count": 10,
   "metadata": {},
   "outputs": [],
   "source": [
    "def get_game_suffix(date, home_team): # Get the suffix for the shot chart URL\n",
    "    z = get(f'https://www.basketball-reference.com/boxscores/index.fcgi?year={date.year}&month={date.month}&day={date.day}')\n",
    "    suffix = None\n",
    "    home_team = teams[home_team.split()[-1]]\n",
    "    if z.status_code==200:\n",
    "        soup = BeautifulSoup(z.content, 'html.parser')\n",
    "        for table in soup.find_all('table', attrs={'class': 'teams'}):\n",
    "            for anchor in table.find_all('a'):\n",
    "                if 'boxscores' in anchor.attrs['href']:\n",
    "                    if home_team in anchor.attrs['href']:\n",
    "                        suffix = anchor.attrs['href']\n",
    "                        return suffix\n",
    "    return\n",
    "\n",
    "def get_location(s): # Convert shot locations (pixels) to feet\n",
    "    l = s.split(';')\n",
    "    top = float(l[0][l[0].index(':')+1:l[0].index('px')])\n",
    "    left = float(l[1][l[1].index(':')+1:l[1].index('px')])\n",
    "    x = left/500.0*50 # NBA halfcourt is 50ft wide\n",
    "    y = top/472.0*(94/2) # NBA halfcout is 47ft long\n",
    "    return {'x': round(x,2), 'y': round(y,2)} \n",
    "\n",
    "def get_description(s): # Parse for descriptive shot data as per the listed column names\n",
    "    match = re.match(r'(\\d)[a-z]{2} quarter, (\\S*) remaining<br>(.*) \\b(missed|made) (\\d)-pointer from (\\d*) ft', s)\n",
    "    d = {}\n",
    "    if match:\n",
    "        groups = match.groups()\n",
    "        d['QUARTER'] = int(groups[0])\n",
    "        d['TIME_REMAINING'] = groups[1]\n",
    "        d['PLAYER'] = groups[2]\n",
    "        d['MAKE_MISS'] = 'MAKE' if groups[3]=='made' else 'MISS'\n",
    "        d['VALUE'] = int(groups[4])\n",
    "        d['DISTANCE'] = groups[5] + ' ft'\n",
    "    return d\n",
    "\n",
    "def get_shot_chart(date, team1, team2): # Function returns a dataframe containing detailed shot information\n",
    "    suffix = get_game_suffix(date, team2).replace('/boxscores', '')\n",
    "    r = get(f'https://www.basketball-reference.com/boxscores/shot-chart{suffix}')\n",
    "    team1 = teams[team1.split()[-1]]\n",
    "    team2 = teams[team2.split()[-1]]\n",
    "    if r.status_code==200:\n",
    "        soup = BeautifulSoup(r.content, 'html.parser')\n",
    "        shot_chart1_div = soup.find('div', attrs={'id': f'shots-{team1}'})\n",
    "        shot_chart2_div = soup.find('div', attrs={'id': f'shots-{team2}'})\n",
    "        df = pd.DataFrame()\n",
    "        for div in shot_chart1_div.find_all('div'):\n",
    "            if 'style' not in div.attrs or 'tip' not in div.attrs:\n",
    "                continue\n",
    "            location = get_location(div.attrs['style'])\n",
    "            description = get_description(div.attrs['tip'])\n",
    "            shot_d = {**location, **description}\n",
    "            shot_df = pd.DataFrame.from_dict([shot_d])\n",
    "            df = df.append(shot_df)\n",
    "        df = df.reset_index()\n",
    "        df = df.drop('index', axis=1)\n",
    "        \n",
    "        for div in shot_chart2_div.find_all('div'):\n",
    "            if 'style' not in div.attrs or 'tip' not in div.attrs:\n",
    "                continue\n",
    "            location = get_location(div.attrs['style'])\n",
    "            description = get_description(div.attrs['tip'])\n",
    "            shot_d = {**location, **description}\n",
    "            shot_df = pd.DataFrame.from_dict([shot_d])\n",
    "            df = df.append(shot_df)\n",
    "        df = df.reset_index()\n",
    "        df = df.drop('index', axis=1)\n",
    "        sleep(random.uniform(1,2))\n",
    "        return df"
   ]
  },
  {
   "cell_type": "markdown",
   "metadata": {},
   "source": [
    "# Visualizations\n",
    "\n",
    "Define function to draw NBA halfcourt with proper dimensions\n",
    "\n",
    "### Drawing the Base Image (Basketball Court)"
   ]
  },
  {
   "cell_type": "code",
   "execution_count": 11,
   "metadata": {},
   "outputs": [],
   "source": [
    "from matplotlib.patches import Circle, Rectangle, Arc\n",
    "\n",
    "def draw_court(ax=None, color='black', lw=2, outer_lines=False):\n",
    "    # If an axes object isn't provided to plot onto, just get current one\n",
    "    if ax is None:\n",
    "        ax = plt.gca()\n",
    "\n",
    "    # Diameter of a hoop is 18\" so it has a radius of 9\", which is a value 7.5 in our coordinate system\n",
    "    hoop = Circle((0, 0), radius=7.5, linewidth=lw, color=color, fill=False)\n",
    "\n",
    "    # Backboard\n",
    "    backboard = Rectangle((-30, -7.5), 60, -1, linewidth=lw, color=color)\n",
    "\n",
    "    # The Key: Create the outer box 0f the paint, width=16ft, height=19ft\n",
    "    outer_box = Rectangle((-80, -47.5), 160, 190, linewidth=lw, color=color, fill=False)\n",
    "    \n",
    "    # Create the inner box of the paint, widt=12ft, height=19ft\n",
    "    inner_box = Rectangle((-60, -47.5), 120, 190, linewidth=lw, color=color, fill=False)\n",
    "\n",
    "    # Create free throw top arc\n",
    "    top_free_throw = Arc((0, 142.5), 120, 120, theta1=0, theta2=180, linewidth=lw, color=color, fill=False)\n",
    "    \n",
    "    # Create free throw bottom arc\n",
    "    bottom_free_throw = Arc((0, 142.5), 120, 120, theta1=180, theta2=0,linewidth=lw, color=color, linestyle='dashed')\n",
    "    \n",
    "    # Restricted Zone: 4ft radius from center of the hoop\n",
    "    restricted = Arc((0, 0), 80, 80, theta1=0, theta2=180, linewidth=lw, color=color)\n",
    "\n",
    "    # Three point line\n",
    "    \n",
    "    # Create the side 3pt lines, they are 14ft long before they begin to arc\n",
    "    corner_three_a = Rectangle((-220, -47.5), 0, 140, linewidth=lw, color=color)\n",
    "    corner_three_b = Rectangle((220, -47.5), 0, 140, linewidth=lw, color=color)\n",
    "    \n",
    "    # 3pt arc - center of arc will be the hoop, arc is 23'9\" away from hoop. Thetas are via trial and error until aligned\n",
    "    three_arc = Arc((0, 0), 475, 475, theta1=22, theta2=158, linewidth=lw, color=color)\n",
    "\n",
    "    # Center Court\n",
    "    center_outer_arc = Arc((0, 422.5), 120, 120, theta1=180, theta2=0, linewidth=lw, color=color)\n",
    "    center_inner_arc = Arc((0, 422.5), 40, 40, theta1=180, theta2=0, linewidth=lw, color=color)\n",
    "\n",
    "    # List of the court elements to be plotted onto the axes\n",
    "    court_elements = [hoop, backboard, outer_box, inner_box, top_free_throw, bottom_free_throw, restricted, corner_three_a,\n",
    "                      corner_three_b, three_arc]\n",
    "\n",
    "    if outer_lines:\n",
    "        # Draw the half court line, baseline and side out bound lines\n",
    "        outer_lines = Rectangle((-250, -47.5), 500, 470, linewidth=lw, color=color, fill=False)\n",
    "        court_elements.append(outer_lines)\n",
    "\n",
    "    # Add the court elements onto the axes\n",
    "    for element in court_elements:\n",
    "        ax.add_patch(element)\n",
    "\n",
    "    return ax"
   ]
  },
  {
   "cell_type": "code",
   "execution_count": 12,
   "metadata": {
    "scrolled": true
   },
   "outputs": [
    {
     "data": {
      "image/png": "[encoded data removed]",
      "text/plain": [
       "<Figure size 396x324 with 1 Axes>"
      ]
     },
     "metadata": {},
     "output_type": "display_data"
    }
   ],
   "source": [
    "# Visualize the court\n",
    "plt.figure(figsize=(5.5,4.5))\n",
    "plt.xlim(-250,250)\n",
    "plt.ylim(325, -47.5) # Draw portion of court pretaining to set offense (I.e. shooting from half court is never the goal)\n",
    "plt.tick_params(labelbottom=False, labelleft=False)\n",
    "draw_court(outer_lines = False)\n",
    "plt.show()"
   ]
  },
  {
   "cell_type": "markdown",
   "metadata": {},
   "source": [
    "### Let's visualize data from the first game of the 2018 season to test"
   ]
  },
  {
   "cell_type": "code",
   "execution_count": 13,
   "metadata": {},
   "outputs": [
    {
     "data": {
      "text/html": [
       "<div>\n",
       "<style scoped>\n",
       "    .dataframe tbody tr th:only-of-type {\n",
       "        vertical-align: middle;\n",
       "    }\n",
       "\n",
       "    .dataframe tbody tr th {\n",
       "        vertical-align: top;\n",
       "    }\n",
       "\n",
       "    .dataframe thead th {\n",
       "        text-align: right;\n",
       "    }\n",
       "</style>\n",
       "<table border=\"1\" class=\"dataframe\">\n",
       "  <thead>\n",
       "    <tr style=\"text-align: right;\">\n",
       "      <th></th>\n",
       "      <th>x</th>\n",
       "      <th>y</th>\n",
       "      <th>QUARTER</th>\n",
       "      <th>TIME_REMAINING</th>\n",
       "      <th>PLAYER</th>\n",
       "      <th>MAKE_MISS</th>\n",
       "      <th>VALUE</th>\n",
       "      <th>DISTANCE</th>\n",
       "      <th>x_conv</th>\n",
       "      <th>y_conv</th>\n",
       "    </tr>\n",
       "  </thead>\n",
       "  <tbody>\n",
       "    <tr>\n",
       "      <td>0</td>\n",
       "      <td>23.9</td>\n",
       "      <td>12.94</td>\n",
       "      <td>1</td>\n",
       "      <td>11:44.0</td>\n",
       "      <td>Kyrie Irving</td>\n",
       "      <td>MAKE</td>\n",
       "      <td>2</td>\n",
       "      <td>10 ft</td>\n",
       "      <td>-11.0</td>\n",
       "      <td>81.9</td>\n",
       "    </tr>\n",
       "    <tr>\n",
       "      <td>1</td>\n",
       "      <td>23.3</td>\n",
       "      <td>6.07</td>\n",
       "      <td>1</td>\n",
       "      <td>8:34.0</td>\n",
       "      <td>Kyrie Irving</td>\n",
       "      <td>MISS</td>\n",
       "      <td>2</td>\n",
       "      <td>3 ft</td>\n",
       "      <td>-17.0</td>\n",
       "      <td>13.2</td>\n",
       "    </tr>\n",
       "    <tr>\n",
       "      <td>2</td>\n",
       "      <td>34.9</td>\n",
       "      <td>15.04</td>\n",
       "      <td>1</td>\n",
       "      <td>8:02.0</td>\n",
       "      <td>Kyrie Irving</td>\n",
       "      <td>MAKE</td>\n",
       "      <td>2</td>\n",
       "      <td>16 ft</td>\n",
       "      <td>99.0</td>\n",
       "      <td>102.9</td>\n",
       "    </tr>\n",
       "    <tr>\n",
       "      <td>3</td>\n",
       "      <td>30.5</td>\n",
       "      <td>17.13</td>\n",
       "      <td>1</td>\n",
       "      <td>5:31.0</td>\n",
       "      <td>Kyrie Irving</td>\n",
       "      <td>MAKE</td>\n",
       "      <td>2</td>\n",
       "      <td>15 ft</td>\n",
       "      <td>55.0</td>\n",
       "      <td>123.8</td>\n",
       "    </tr>\n",
       "    <tr>\n",
       "      <td>4</td>\n",
       "      <td>30.4</td>\n",
       "      <td>26.59</td>\n",
       "      <td>1</td>\n",
       "      <td>4:56.0</td>\n",
       "      <td>Kyrie Irving</td>\n",
       "      <td>MISS</td>\n",
       "      <td>3</td>\n",
       "      <td>24 ft</td>\n",
       "      <td>54.0</td>\n",
       "      <td>218.4</td>\n",
       "    </tr>\n",
       "  </tbody>\n",
       "</table>\n",
       "</div>"
      ],
      "text/plain": [
       "      x      y  QUARTER TIME_REMAINING        PLAYER MAKE_MISS  VALUE  \\\n",
       "0  23.9  12.94        1        11:44.0  Kyrie Irving      MAKE      2   \n",
       "1  23.3   6.07        1         8:34.0  Kyrie Irving      MISS      2   \n",
       "2  34.9  15.04        1         8:02.0  Kyrie Irving      MAKE      2   \n",
       "3  30.5  17.13        1         5:31.0  Kyrie Irving      MAKE      2   \n",
       "4  30.4  26.59        1         4:56.0  Kyrie Irving      MISS      3   \n",
       "\n",
       "  DISTANCE  x_conv  y_conv  \n",
       "0    10 ft   -11.0    81.9  \n",
       "1     3 ft   -17.0    13.2  \n",
       "2    16 ft    99.0   102.9  \n",
       "3    15 ft    55.0   123.8  \n",
       "4    24 ft    54.0   218.4  "
      ]
     },
     "execution_count": 13,
     "metadata": {},
     "output_type": "execute_result"
    }
   ],
   "source": [
    "# Let's visualize Kyrie Irvings Shot Chart from Boston's first game of the 2017 - 2018 season for verification\n",
    "test_chart = get_shot_chart(schedule.DATE[0], schedule.VISITOR[0], schedule.HOME[0])\n",
    "\n",
    "# Convert x measurements to coordinate system of basketball court\n",
    "test_chart['x_conv'] = test_chart.apply(lambda row: (row['x']-25)*10, axis = 1)\n",
    "\n",
    "# Convert y measurements to coordinate system of basketball court\n",
    "test_chart['y_conv'] = test_chart.apply(lambda row: row['y']*10-47.5, axis = 1) \n",
    "\n",
    "# Clean up DataFrame\n",
    "kyrie = test_chart[test_chart['PLAYER'] == 'Kyrie Irving'].reset_index().drop('index', axis = 1)\n",
    "\n",
    "kyrie.head()"
   ]
  },
  {
   "cell_type": "code",
   "execution_count": 14,
   "metadata": {
    "scrolled": false
   },
   "outputs": [
    {
     "data": {
      "image/png": "[encoded data removed]",
      "text/plain": [
       "<Figure size 396x324 with 1 Axes>"
      ]
     },
     "metadata": {},
     "output_type": "display_data"
    }
   ],
   "source": [
    "# Plot Kyrie Irving Shot Chart\n",
    "plt.figure(figsize=(5.5,4.5))\n",
    "plt.scatter(kyrie.x_conv,kyrie.y_conv, s=100)\n",
    "draw_court(outer_lines = False)\n",
    "\n",
    "# Adjust plot limits to focus on halfcourt offense (shots taken near half are rarely if ever intentional parts of offense)\n",
    "plt.xlim(-250,250)\n",
    "plt.ylim(325, -47.5)\n",
    "plt.tick_params(labelbottom=False, labelleft=False)\n",
    "draw_court(outer_lines = False)\n",
    "plt.show()"
   ]
  },
  {
   "cell_type": "markdown",
   "metadata": {},
   "source": [
    "# Aggregate Shot Data for All Games"
   ]
  },
  {
   "cell_type": "code",
   "execution_count": null,
   "metadata": {
    "scrolled": true
   },
   "outputs": [
    {
     "name": "stderr",
     "output_type": "stream",
     "text": [
      "C:\\ProgramData\\Anaconda3\\lib\\site-packages\\pandas\\core\\frame.py:7123: FutureWarning: Sorting because non-concatenation axis is not aligned. A future version\n",
      "of pandas will change to not sort by default.\n",
      "\n",
      "To accept the future behavior, pass 'sort=False'.\n",
      "\n",
      "To retain the current behavior and silence the warning, pass 'sort=True'.\n",
      "\n",
      "  sort=sort,\n"
     ]
    }
   ],
   "source": [
    "# Scrape entire schedule (this is time consuming)\n",
    "schedule['Shot_Chart'] = schedule.apply(lambda x: get_shot_chart(x['DATE'], x['VISITOR'], x['HOME']), axis = 1)"
   ]
  },
  {
   "cell_type": "markdown",
   "metadata": {},
   "source": [
    "Create new dataframe that is a concatenation of the shot chart in each row of the shot_chart column"
   ]
  },
  {
   "cell_type": "code",
   "execution_count": null,
   "metadata": {},
   "outputs": [],
   "source": [
    "cols = ['x', 'y', 'QUARTER', 'TIME_REMAINING', 'PLAYER', 'MAKE_MISS', 'VALUE', 'DISTANCE']\n",
    "all_data = pd.DataFrame(columns = cols)\n",
    "\n",
    "for i in range(schedule.shape[0] - 2): # range = number of total rows in the dataframe - 2 (headers, last row = junk)\n",
    "    df = schedule.iloc[i].Shot_Chart\n",
    "    all_data = pd.concat([all_data, df], ignore_index = True, sort=False)"
   ]
  },
  {
   "cell_type": "markdown",
   "metadata": {},
   "source": [
    "### Clean up some non-sensical portions of the data:\n",
    "* Negative x and y values should be impossible. Presumed to be measuremenet error in sensors use dto determine locations\n",
    "* x, y must be positive values for non-negative matrix factorization\n",
    "* Drop columns with NA. Low % of total data and it cannot be used / should not exist in the dataset"
   ]
  },
  {
   "cell_type": "code",
   "execution_count": null,
   "metadata": {},
   "outputs": [],
   "source": [
    "all_data[all_data.x < 0] = 0\n",
    "all_data[all_data.y < 0] = 0\n",
    "all_data = all_data.dropna()\n",
    "all_data.isnull().sum()"
   ]
  },
  {
   "cell_type": "markdown",
   "metadata": {},
   "source": [
    "### Discretize Shot Locations\n",
    "In order to apply NNMF, we need discrete bins for each shot to limit total number of possible values. The simplest approach is simply to round the x and y values of each shot"
   ]
  },
  {
   "cell_type": "code",
   "execution_count": null,
   "metadata": {},
   "outputs": [],
   "source": [
    "all_data['x_bin'] = (np.round(all_data.x)).astype(int)\n",
    "all_data['y_bin'] = (np.round(all_data.y)).astype(int)\n",
    "\n",
    "# Summarize Players into bin / count dictionary:\n",
    "all_data['zip'] = tuple(zip(all_data.x_bin, all_data.y_bin)) "
   ]
  },
  {
   "cell_type": "markdown",
   "metadata": {},
   "source": [
    "# Visualize Season Length Heatmap\n",
    "\n",
    "To make sure that the bins are working appropriately, let's select shot data for James Harden's entire season and visualize it in the form of a heatmap"
   ]
  },
  {
   "cell_type": "code",
   "execution_count": null,
   "metadata": {
    "scrolled": true
   },
   "outputs": [],
   "source": [
    "James = all_data[all_data.PLAYER == \"James Harden\"]\n",
    "James['x_plot'] = James.apply(lambda row: (row['x_bin']-25)*10, axis = 1)\n",
    "James['y_plot'] = James.apply(lambda row: row['y_bin']*10 - 47.5, axis = 1)\n",
    "James.head()"
   ]
  },
  {
   "cell_type": "code",
   "execution_count": null,
   "metadata": {
    "scrolled": false
   },
   "outputs": [],
   "source": [
    "cmap=plt.cm.YlOrRd_r  #color map for heatmap \n",
    "\n",
    "# Joint shot chart produces histo / heatmap. n_levels refers to # of contour lines in kde plot\n",
    "joint_shot_chart = sns.jointplot(James.x_plot, James.y_plot, stat_func=None, kind='kde', space=0, color=cmap(0.1),\n",
    "                                 cmap=cmap, n_levels=50)\n",
    "\n",
    "\n",
    "joint_shot_chart.fig.set_size_inches(5,3.75)\n",
    "\n",
    "# A joint plot has 3 Axes, the first one ax_joint is the one we want to draw our court onto and adjust some other settings\n",
    "ax = joint_shot_chart.ax_joint\n",
    "\n",
    "# Adjust the axis limits and orientation of the plot in order to plot half court, with the hoop by the top of the plot\n",
    "ax.set_xlim(-250,250)\n",
    "ax.set_ylim(325, -47.5)\n",
    "\n",
    "# Get rid of axis labels and tick marks\n",
    "ax.set_xlabel('')\n",
    "ax.set_ylabel('')\n",
    "ax.tick_params(labelbottom='off', labelleft='off')\n",
    "draw_court(ax)\n",
    "plt.show()"
   ]
  },
  {
   "cell_type": "markdown",
   "metadata": {},
   "source": [
    "### Understanding the Heatmap\n",
    "This jointplot shows the heatmap for James Harden's shooting throughout the 2017-2018 NBA season. Thie histograms on each axis represent frequency of shots in x coordinate and y coordinate. Anecdotally, this very much accurately corresponds to James Harden's game. He is well known for never really shooting mid-range shots, only threes and drives to the basket. In this sense, the output is not only interpretable, but matches expectations.\n",
    "\n",
    "Additionally, we see see that while James Harden is a left handed player, he shoots threes relatively equally across each side. However, on drives to the basket he predominantly finishes with his left hand / on the left side ."
   ]
  },
  {
   "cell_type": "markdown",
   "metadata": {},
   "source": [
    "# Define NNMF\n",
    "\n",
    "The NNMF algorithm is essentially a gradient-descent algorithm that solves the nonnegative matrix factorization problem: \n",
    "$$\n",
    "\\begin{align*}\n",
    "\\mbox{minimize}_{W,H} &  \\ \\| WH-X\\|_F^2\\\\\n",
    "\\mbox{subj. to} & \\ W_{ij}\\ge 0 \\ \\forall i,j \\\\\n",
    "                &  \\ H_{ij}\\ge 0 \\ \\forall i,j \\\\\n",
    "\\end{align*}\n",
    "$$\n",
    "where $W\\in\\mathbb{R}^{m\\times r}$ and $H\\in\\mathbb{R}^{r\\times n}$.\n",
    "\n",
    "* $W$ matrix represents the hidden structure of the shooting data. That is to say, the player arch-types that we are summarizing the shot data into will be columns of W\n",
    "* $r$ represents the number of columns we want to decompose our data matrix into (I.e. how many archetypes are there?). Note that finding the \"correct\" r value for the \"best\" W matrix is as much an art as a science\n",
    "* $H$ will represent a weight matrix corresponding to the components of W that most make contribute to a specific players shot chart\n",
    "\n",
    "For more info: https://en.wikipedia.org/wiki/Non-negative_matrix_factorization\n",
    "\n",
    "In the code below, delta and sigma are small values designed to prevent the numerator or denominator of the step-size from being 0. Numerator of 0 can cause the gradient step size to be 0 (effectively stalling the algorithm out), and the a denominator of 0 will break the algorithm. Epsilon is just a parameter that defines convergence tolerance (I.e. what change in objective function between iterations is small enough such that we can practically consider the algorithm to have converged?)"
   ]
  },
  {
   "cell_type": "code",
   "execution_count": null,
   "metadata": {},
   "outputs": [],
   "source": [
    "def get_gradient_H(W, H, X):\n",
    "    return W.T@W@H - W.T@X\n",
    "\n",
    "def get_gradient_W(W, H, X):\n",
    "    return W@(H@H.T) - X@H.T\n",
    "\n",
    "def get_stepsize_H(W, H, X, gradient_H, delta, sigma):\n",
    "    H_bar = np.where(gradient_H >= 0, H, np.maximum(H, sigma))\n",
    "    return H_bar/(W.T@W@H_bar + delta)\n",
    "\n",
    "def get_stepsize_W(W, H, X, gradient_W, delta, sigma):\n",
    "    W_bar = np.where(gradient_W >= 0, W, np.maximum(W, sigma))\n",
    "    return W_bar/(W_bar@(H@H.T) + delta)\n",
    "\n",
    "# def normalize(W, H): # Normalize columns of W to unit norm, scale H proportionately\n",
    "#     s = np.sum(W, axis=0)\n",
    "#     return W*(1/s), H*s[:, np.newaxis]\n",
    "\n",
    "def NNMF(X, r=6, delta=1.0e-9, sigma=1.0e-9, maxIter=1000): # accepts column vectors\n",
    "    W = np.random.uniform(size=(X.shape[0], r))\n",
    "    H = np.random.uniform(size=(r, X.shape[1]))\n",
    "    for _ in range(maxIter):\n",
    "        gradient_H = get_gradient_H(W, H, X)\n",
    "        stepsize_H = get_stepsize_H(W, H, X, gradient_H, delta, sigma) \n",
    "        H -= stepsize_H*gradient_H\n",
    "        gradient_W = get_gradient_W(W, H, X)\n",
    "        stepsize_W = get_stepsize_W(W, H, X, gradient_W, delta, sigma)\n",
    "        W -= stepsize_W*gradient_W\n",
    "#         W, H = normalize(W, H)\n",
    "    return W, H"
   ]
  },
  {
   "cell_type": "markdown",
   "metadata": {},
   "source": [
    "# Stage Data for NMF\n",
    "\n",
    "In order to apply NNMF, I need to create column vectors. To do this, I will first create a zero array in the dimensions of my shot bins. Then, I will reshape this to a flat column vector. Lastly, I will Combine the column vector for all players into an array (this is my X array in the NNMF algorithm). There may be an opportunity to take advantage of sparsity in the data."
   ]
  },
  {
   "cell_type": "code",
   "execution_count": null,
   "metadata": {
    "scrolled": true
   },
   "outputs": [],
   "source": [
    "def shot_dictionary(name):\n",
    "    temp = (all_data[all_data.PLAYER == name]).copy()\n",
    "    shot_dict = dict(temp['zip'].value_counts())\n",
    "    return shot_dict\n",
    "\n",
    "def get_matrix(d, shape = (50, 47)):\n",
    "    shots = np.zeros(shape)\n",
    "    for k,v in d.items():\n",
    "        shots[k] = int(v)\n",
    "    return (np.matrix.flatten(shots)) # Normalize all players as if they shot 10,000 shots\n",
    "\n",
    "new_df = pd.DataFrame(all_data.PLAYER.unique(), columns = ['PLAYER']) \n",
    "new_df['DICT'] = new_df.apply(lambda x: shot_dictionary(x.PLAYER), axis = 1)\n",
    "new_df['MATRIX'] = new_df.apply(lambda x: get_matrix(x.DICT), axis = 1)\n",
    "nmf_data = np.array(new_df[\"MATRIX\"].values.tolist())"
   ]
  },
  {
   "cell_type": "markdown",
   "metadata": {},
   "source": [
    "# Drop Players with < 200 shots"
   ]
  },
  {
   "cell_type": "markdown",
   "metadata": {},
   "source": [
    "# Run NMF and Interpret Results"
   ]
  },
  {
   "cell_type": "code",
   "execution_count": null,
   "metadata": {},
   "outputs": [],
   "source": [
    "W, H = NNMF(nmf_data.T, r = 12)"
   ]
  },
  {
   "cell_type": "code",
   "execution_count": null,
   "metadata": {},
   "outputs": [],
   "source": [
    "tester = W[:,4]\n",
    "# # tester = np.where(tester < 1, 0 ,tester)\n",
    "# tester = tester.reshape(shape)\n",
    "# tester = np.round(tester).astype('int')\n",
    "# tester\n",
    "tester = np.round(tester).astype('int')\n",
    "tester[tester < 1] = 0\n",
    "tester = tester.reshape(shape)"
   ]
  },
  {
   "cell_type": "code",
   "execution_count": null,
   "metadata": {
    "scrolled": true
   },
   "outputs": [],
   "source": [
    "#initiate\n",
    "x1 = np.array([])\n",
    "y1 = np.array([])\n",
    "\n",
    "for i in range(1,tester.max()+1):\n",
    "    for j in range(i):\n",
    "        locs = np.where(tester==i)\n",
    "        try:\n",
    "            x1 = np.append(x1, locs[0])\n",
    "            y1 = np.append(y1, locs[1])\n",
    "        except: #this number doesn't exist in the array\n",
    "            break"
   ]
  },
  {
   "cell_type": "code",
   "execution_count": null,
   "metadata": {},
   "outputs": [],
   "source": [
    "x1 = (x1-24)*10\n",
    "y1 = y1*10 - 35\n",
    "y1[y1 <0 ] = 0"
   ]
  },
  {
   "cell_type": "markdown",
   "metadata": {},
   "source": [
    "# Interpret the Output\n",
    "\n",
    "I will now analyze the output. I will visualize the 6 column vectors of W, which should correspond to hidden player arche-types in the data"
   ]
  },
  {
   "cell_type": "code",
   "execution_count": null,
   "metadata": {},
   "outputs": [],
   "source": [
    "cmap=plt.cm.YlOrRd_r  #color map for heatmap \n",
    "\n",
    "# Joint shot chart produces histo / heatmap. n_levels refers to # of contour lines in kde plot\n",
    "joint_shot_chart = sns.jointplot(x1, y1, stat_func=None, kind='kde', space=0, color=cmap(0.1),\n",
    "                                 cmap=cmap, n_levels=50)\n",
    "\n",
    "\n",
    "joint_shot_chart.fig.set_size_inches(12,9)\n",
    "\n",
    "# A joint plot has 3 Axes, the first one ax_joint is the one we want to draw our court onto and adjust some other settings\n",
    "ax = joint_shot_chart.ax_joint\n",
    "\n",
    "# Adjust the axis limits and orientation of the plot in order to plot half court, with the hoop by the top of the plot\n",
    "ax.set_xlim(-250,250)\n",
    "ax.set_ylim(325, -47.5)\n",
    "\n",
    "# Get rid of axis labels and tick marks\n",
    "ax.set_xlabel('')\n",
    "ax.set_ylabel('')\n",
    "ax.tick_params(labelbottom='off', labelleft='off')\n",
    "draw_court(ax)\n",
    "plt.show()"
   ]
  },
  {
   "cell_type": "code",
   "execution_count": null,
   "metadata": {},
   "outputs": [],
   "source": [
    "shot_chart = dict(((j,i), test[i][j]) for i in range(len(test)) for j in range(len(test[0])) if i<j)\n",
    "df_shots = pd.DataFrame(list(shot_chart.items()), columns = ['Location', 'Freq'])\n",
    "df_shots.head()"
   ]
  },
  {
   "cell_type": "code",
   "execution_count": null,
   "metadata": {
    "scrolled": false
   },
   "outputs": [],
   "source": [
    "df_shots[['x', 'y']] = pd.DataFrame(df_shots['Location'].tolist(), index=df_shots.index)\n",
    "df_shots['x_plot'] = df_shots.apply(lambda row: (row['x'] -26)*10, axis = 1)\n",
    "df_shots['y_plot'] = df_shots.apply(lambda row: row['y']*10 - 35, axis = 1)\n",
    "df_shots[df_shots.y_plot < 0] = 0"
   ]
  },
  {
   "cell_type": "code",
   "execution_count": null,
   "metadata": {},
   "outputs": [],
   "source": []
  },
  {
   "cell_type": "code",
   "execution_count": null,
   "metadata": {},
   "outputs": [],
   "source": []
  }
 ],
 "metadata": {
  "kernelspec": {
   "display_name": "Python 3",
   "language": "python",
   "name": "python3"
  },
  "language_info": {
   "codemirror_mode": {
    "name": "ipython",
    "version": 3
   },
   "file_extension": ".py",
   "mimetype": "text/x-python",
   "name": "python",
   "nbconvert_exporter": "python",
   "pygments_lexer": "ipython3",
   "version": "3.7.4"
  }
 },
 "nbformat": 4,
 "nbformat_minor": 2
}
